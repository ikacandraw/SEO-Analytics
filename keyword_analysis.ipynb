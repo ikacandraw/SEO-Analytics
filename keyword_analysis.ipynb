{
  "nbformat": 4,
  "nbformat_minor": 0,
  "metadata": {
    "colab": {
      "provenance": []
    },
    "kernelspec": {
      "name": "python3",
      "display_name": "Python 3"
    },
    "language_info": {
      "name": "python"
    }
  },
  "cells": [
    {
      "cell_type": "code",
      "execution_count": null,
      "metadata": {
        "id": "t5wfX9HHnvXf"
      },
      "outputs": [],
      "source": [
        "import pandas as pd\n",
        "from gensim.models import Word2Vec\n",
        "import numpy as np\n",
        "import warnings\n",
        "warnings.filterwarnings(\"ignore\")\n",
        "warnings.warn(\"deprecated\", DeprecationWarning)"
      ]
    },
    {
      "cell_type": "code",
      "source": [
        "data = pd.read_csv(\"keyword.csv\")\n",
        "data.head()"
      ],
      "metadata": {
        "colab": {
          "base_uri": "https://localhost:8080/",
          "height": 206
        },
        "id": "OiOK1-C2ppWM",
        "outputId": "e304cb18-4c02-4e89-be80-992deaf2011b"
      },
      "execution_count": null,
      "outputs": [
        {
          "output_type": "execute_result",
          "data": {
            "text/plain": [
              "                     keywords\n",
              "0                 solopreneur\n",
              "1                solopreneurs\n",
              "2      Generate business idea\n",
              "3  Ai generated business idea\n",
              "4  Ai business idea generator"
            ],
            "text/html": [
              "\n",
              "  <div id=\"df-be44a487-1bcb-4e54-8c3d-46b87d029f89\">\n",
              "    <div class=\"colab-df-container\">\n",
              "      <div>\n",
              "<style scoped>\n",
              "    .dataframe tbody tr th:only-of-type {\n",
              "        vertical-align: middle;\n",
              "    }\n",
              "\n",
              "    .dataframe tbody tr th {\n",
              "        vertical-align: top;\n",
              "    }\n",
              "\n",
              "    .dataframe thead th {\n",
              "        text-align: right;\n",
              "    }\n",
              "</style>\n",
              "<table border=\"1\" class=\"dataframe\">\n",
              "  <thead>\n",
              "    <tr style=\"text-align: right;\">\n",
              "      <th></th>\n",
              "      <th>keywords</th>\n",
              "    </tr>\n",
              "  </thead>\n",
              "  <tbody>\n",
              "    <tr>\n",
              "      <th>0</th>\n",
              "      <td>solopreneur</td>\n",
              "    </tr>\n",
              "    <tr>\n",
              "      <th>1</th>\n",
              "      <td>solopreneurs</td>\n",
              "    </tr>\n",
              "    <tr>\n",
              "      <th>2</th>\n",
              "      <td>Generate business idea</td>\n",
              "    </tr>\n",
              "    <tr>\n",
              "      <th>3</th>\n",
              "      <td>Ai generated business idea</td>\n",
              "    </tr>\n",
              "    <tr>\n",
              "      <th>4</th>\n",
              "      <td>Ai business idea generator</td>\n",
              "    </tr>\n",
              "  </tbody>\n",
              "</table>\n",
              "</div>\n",
              "      <button class=\"colab-df-convert\" onclick=\"convertToInteractive('df-be44a487-1bcb-4e54-8c3d-46b87d029f89')\"\n",
              "              title=\"Convert this dataframe to an interactive table.\"\n",
              "              style=\"display:none;\">\n",
              "        \n",
              "  <svg xmlns=\"http://www.w3.org/2000/svg\" height=\"24px\"viewBox=\"0 0 24 24\"\n",
              "       width=\"24px\">\n",
              "    <path d=\"M0 0h24v24H0V0z\" fill=\"none\"/>\n",
              "    <path d=\"M18.56 5.44l.94 2.06.94-2.06 2.06-.94-2.06-.94-.94-2.06-.94 2.06-2.06.94zm-11 1L8.5 8.5l.94-2.06 2.06-.94-2.06-.94L8.5 2.5l-.94 2.06-2.06.94zm10 10l.94 2.06.94-2.06 2.06-.94-2.06-.94-.94-2.06-.94 2.06-2.06.94z\"/><path d=\"M17.41 7.96l-1.37-1.37c-.4-.4-.92-.59-1.43-.59-.52 0-1.04.2-1.43.59L10.3 9.45l-7.72 7.72c-.78.78-.78 2.05 0 2.83L4 21.41c.39.39.9.59 1.41.59.51 0 1.02-.2 1.41-.59l7.78-7.78 2.81-2.81c.8-.78.8-2.07 0-2.86zM5.41 20L4 18.59l7.72-7.72 1.47 1.35L5.41 20z\"/>\n",
              "  </svg>\n",
              "      </button>\n",
              "      \n",
              "  <style>\n",
              "    .colab-df-container {\n",
              "      display:flex;\n",
              "      flex-wrap:wrap;\n",
              "      gap: 12px;\n",
              "    }\n",
              "\n",
              "    .colab-df-convert {\n",
              "      background-color: #E8F0FE;\n",
              "      border: none;\n",
              "      border-radius: 50%;\n",
              "      cursor: pointer;\n",
              "      display: none;\n",
              "      fill: #1967D2;\n",
              "      height: 32px;\n",
              "      padding: 0 0 0 0;\n",
              "      width: 32px;\n",
              "    }\n",
              "\n",
              "    .colab-df-convert:hover {\n",
              "      background-color: #E2EBFA;\n",
              "      box-shadow: 0px 1px 2px rgba(60, 64, 67, 0.3), 0px 1px 3px 1px rgba(60, 64, 67, 0.15);\n",
              "      fill: #174EA6;\n",
              "    }\n",
              "\n",
              "    [theme=dark] .colab-df-convert {\n",
              "      background-color: #3B4455;\n",
              "      fill: #D2E3FC;\n",
              "    }\n",
              "\n",
              "    [theme=dark] .colab-df-convert:hover {\n",
              "      background-color: #434B5C;\n",
              "      box-shadow: 0px 1px 3px 1px rgba(0, 0, 0, 0.15);\n",
              "      filter: drop-shadow(0px 1px 2px rgba(0, 0, 0, 0.3));\n",
              "      fill: #FFFFFF;\n",
              "    }\n",
              "  </style>\n",
              "\n",
              "      <script>\n",
              "        const buttonEl =\n",
              "          document.querySelector('#df-be44a487-1bcb-4e54-8c3d-46b87d029f89 button.colab-df-convert');\n",
              "        buttonEl.style.display =\n",
              "          google.colab.kernel.accessAllowed ? 'block' : 'none';\n",
              "\n",
              "        async function convertToInteractive(key) {\n",
              "          const element = document.querySelector('#df-be44a487-1bcb-4e54-8c3d-46b87d029f89');\n",
              "          const dataTable =\n",
              "            await google.colab.kernel.invokeFunction('convertToInteractive',\n",
              "                                                     [key], {});\n",
              "          if (!dataTable) return;\n",
              "\n",
              "          const docLinkHtml = 'Like what you see? Visit the ' +\n",
              "            '<a target=\"_blank\" href=https://colab.research.google.com/notebooks/data_table.ipynb>data table notebook</a>'\n",
              "            + ' to learn more about interactive tables.';\n",
              "          element.innerHTML = '';\n",
              "          dataTable['output_type'] = 'display_data';\n",
              "          await google.colab.output.renderOutput(dataTable, element);\n",
              "          const docLink = document.createElement('div');\n",
              "          docLink.innerHTML = docLinkHtml;\n",
              "          element.appendChild(docLink);\n",
              "        }\n",
              "      </script>\n",
              "    </div>\n",
              "  </div>\n",
              "  "
            ]
          },
          "metadata": {},
          "execution_count": 3
        }
      ]
    },
    {
      "cell_type": "code",
      "source": [
        "df_key = data.keywords.copy()\n",
        "df_key.head()"
      ],
      "metadata": {
        "colab": {
          "base_uri": "https://localhost:8080/"
        },
        "id": "QuIToohqp4-d",
        "outputId": "5444915d-500e-4211-8204-9e5238475a13"
      },
      "execution_count": null,
      "outputs": [
        {
          "output_type": "execute_result",
          "data": {
            "text/plain": [
              "0                   solopreneur\n",
              "1                  solopreneurs\n",
              "2        Generate business idea\n",
              "3    Ai generated business idea\n",
              "4    Ai business idea generator\n",
              "Name: keywords, dtype: object"
            ]
          },
          "metadata": {},
          "execution_count": 4
        }
      ]
    },
    {
      "cell_type": "code",
      "source": [
        "import re\n",
        "import nltk\n",
        "nltk.download('wordnet')\n",
        "nltk.download('omw-1.4')\n",
        "nltk.download('stopwords')\n",
        "\n",
        "from nltk.corpus import stopwords\n",
        "from nltk.stem import WordNetLemmatizer\n",
        "lemmatizer = WordNetLemmatizer()\n",
        "corpus = []\n",
        "for i in range(0, len(df_key)):\n",
        "    review = re.sub('[^a-zA-Z]', ' ', df_key[i])\n",
        "    review = review.lower()\n",
        "    review = review.split()\n",
        "\n",
        "    review = [lemmatizer.lemmatize(word) for word in review if not word in stopwords.words('english')]\n",
        "    review = ' '.join(review)\n",
        "    corpus.append(review)"
      ],
      "metadata": {
        "colab": {
          "base_uri": "https://localhost:8080/"
        },
        "id": "emg5-qWMqEJb",
        "outputId": "079430d5-d812-4793-f2ed-2fb220f55219"
      },
      "execution_count": null,
      "outputs": [
        {
          "output_type": "stream",
          "name": "stderr",
          "text": [
            "[nltk_data] Downloading package wordnet to /root/nltk_data...\n",
            "[nltk_data]   Package wordnet is already up-to-date!\n",
            "[nltk_data] Downloading package omw-1.4 to /root/nltk_data...\n",
            "[nltk_data] Downloading package stopwords to /root/nltk_data...\n",
            "[nltk_data]   Package stopwords is already up-to-date!\n"
          ]
        }
      ]
    },
    {
      "cell_type": "code",
      "source": [
        "corpus[:5]"
      ],
      "metadata": {
        "colab": {
          "base_uri": "https://localhost:8080/"
        },
        "id": "nJZIK47XqJ5n",
        "outputId": "a2967b99-d24b-45a5-be7d-a26782f51f44"
      },
      "execution_count": null,
      "outputs": [
        {
          "output_type": "execute_result",
          "data": {
            "text/plain": [
              "['solopreneur',\n",
              " 'solopreneurs',\n",
              " 'generate business idea',\n",
              " 'ai generated business idea',\n",
              " 'ai business idea generator']"
            ]
          },
          "metadata": {},
          "execution_count": 8
        }
      ]
    },
    {
      "cell_type": "code",
      "source": [
        "df_clean = pd.DataFrame(corpus,columns = ['keywords'])"
      ],
      "metadata": {
        "id": "7-kijTJ7qaVy"
      },
      "execution_count": null,
      "outputs": []
    },
    {
      "cell_type": "code",
      "source": [
        "df_clean.head()"
      ],
      "metadata": {
        "colab": {
          "base_uri": "https://localhost:8080/",
          "height": 206
        },
        "id": "zfyY2FmzqfEs",
        "outputId": "542e8dd7-86fa-4b3f-c977-9801348cca58"
      },
      "execution_count": null,
      "outputs": [
        {
          "output_type": "execute_result",
          "data": {
            "text/plain": [
              "                     keywords\n",
              "0                 solopreneur\n",
              "1                solopreneurs\n",
              "2      generate business idea\n",
              "3  ai generated business idea\n",
              "4  ai business idea generator"
            ],
            "text/html": [
              "\n",
              "  <div id=\"df-c6dbfcb0-c408-48b6-a9a8-7a9f9d911a88\">\n",
              "    <div class=\"colab-df-container\">\n",
              "      <div>\n",
              "<style scoped>\n",
              "    .dataframe tbody tr th:only-of-type {\n",
              "        vertical-align: middle;\n",
              "    }\n",
              "\n",
              "    .dataframe tbody tr th {\n",
              "        vertical-align: top;\n",
              "    }\n",
              "\n",
              "    .dataframe thead th {\n",
              "        text-align: right;\n",
              "    }\n",
              "</style>\n",
              "<table border=\"1\" class=\"dataframe\">\n",
              "  <thead>\n",
              "    <tr style=\"text-align: right;\">\n",
              "      <th></th>\n",
              "      <th>keywords</th>\n",
              "    </tr>\n",
              "  </thead>\n",
              "  <tbody>\n",
              "    <tr>\n",
              "      <th>0</th>\n",
              "      <td>solopreneur</td>\n",
              "    </tr>\n",
              "    <tr>\n",
              "      <th>1</th>\n",
              "      <td>solopreneurs</td>\n",
              "    </tr>\n",
              "    <tr>\n",
              "      <th>2</th>\n",
              "      <td>generate business idea</td>\n",
              "    </tr>\n",
              "    <tr>\n",
              "      <th>3</th>\n",
              "      <td>ai generated business idea</td>\n",
              "    </tr>\n",
              "    <tr>\n",
              "      <th>4</th>\n",
              "      <td>ai business idea generator</td>\n",
              "    </tr>\n",
              "  </tbody>\n",
              "</table>\n",
              "</div>\n",
              "      <button class=\"colab-df-convert\" onclick=\"convertToInteractive('df-c6dbfcb0-c408-48b6-a9a8-7a9f9d911a88')\"\n",
              "              title=\"Convert this dataframe to an interactive table.\"\n",
              "              style=\"display:none;\">\n",
              "        \n",
              "  <svg xmlns=\"http://www.w3.org/2000/svg\" height=\"24px\"viewBox=\"0 0 24 24\"\n",
              "       width=\"24px\">\n",
              "    <path d=\"M0 0h24v24H0V0z\" fill=\"none\"/>\n",
              "    <path d=\"M18.56 5.44l.94 2.06.94-2.06 2.06-.94-2.06-.94-.94-2.06-.94 2.06-2.06.94zm-11 1L8.5 8.5l.94-2.06 2.06-.94-2.06-.94L8.5 2.5l-.94 2.06-2.06.94zm10 10l.94 2.06.94-2.06 2.06-.94-2.06-.94-.94-2.06-.94 2.06-2.06.94z\"/><path d=\"M17.41 7.96l-1.37-1.37c-.4-.4-.92-.59-1.43-.59-.52 0-1.04.2-1.43.59L10.3 9.45l-7.72 7.72c-.78.78-.78 2.05 0 2.83L4 21.41c.39.39.9.59 1.41.59.51 0 1.02-.2 1.41-.59l7.78-7.78 2.81-2.81c.8-.78.8-2.07 0-2.86zM5.41 20L4 18.59l7.72-7.72 1.47 1.35L5.41 20z\"/>\n",
              "  </svg>\n",
              "      </button>\n",
              "      \n",
              "  <style>\n",
              "    .colab-df-container {\n",
              "      display:flex;\n",
              "      flex-wrap:wrap;\n",
              "      gap: 12px;\n",
              "    }\n",
              "\n",
              "    .colab-df-convert {\n",
              "      background-color: #E8F0FE;\n",
              "      border: none;\n",
              "      border-radius: 50%;\n",
              "      cursor: pointer;\n",
              "      display: none;\n",
              "      fill: #1967D2;\n",
              "      height: 32px;\n",
              "      padding: 0 0 0 0;\n",
              "      width: 32px;\n",
              "    }\n",
              "\n",
              "    .colab-df-convert:hover {\n",
              "      background-color: #E2EBFA;\n",
              "      box-shadow: 0px 1px 2px rgba(60, 64, 67, 0.3), 0px 1px 3px 1px rgba(60, 64, 67, 0.15);\n",
              "      fill: #174EA6;\n",
              "    }\n",
              "\n",
              "    [theme=dark] .colab-df-convert {\n",
              "      background-color: #3B4455;\n",
              "      fill: #D2E3FC;\n",
              "    }\n",
              "\n",
              "    [theme=dark] .colab-df-convert:hover {\n",
              "      background-color: #434B5C;\n",
              "      box-shadow: 0px 1px 3px 1px rgba(0, 0, 0, 0.15);\n",
              "      filter: drop-shadow(0px 1px 2px rgba(0, 0, 0, 0.3));\n",
              "      fill: #FFFFFF;\n",
              "    }\n",
              "  </style>\n",
              "\n",
              "      <script>\n",
              "        const buttonEl =\n",
              "          document.querySelector('#df-c6dbfcb0-c408-48b6-a9a8-7a9f9d911a88 button.colab-df-convert');\n",
              "        buttonEl.style.display =\n",
              "          google.colab.kernel.accessAllowed ? 'block' : 'none';\n",
              "\n",
              "        async function convertToInteractive(key) {\n",
              "          const element = document.querySelector('#df-c6dbfcb0-c408-48b6-a9a8-7a9f9d911a88');\n",
              "          const dataTable =\n",
              "            await google.colab.kernel.invokeFunction('convertToInteractive',\n",
              "                                                     [key], {});\n",
              "          if (!dataTable) return;\n",
              "\n",
              "          const docLinkHtml = 'Like what you see? Visit the ' +\n",
              "            '<a target=\"_blank\" href=https://colab.research.google.com/notebooks/data_table.ipynb>data table notebook</a>'\n",
              "            + ' to learn more about interactive tables.';\n",
              "          element.innerHTML = '';\n",
              "          dataTable['output_type'] = 'display_data';\n",
              "          await google.colab.output.renderOutput(dataTable, element);\n",
              "          const docLink = document.createElement('div');\n",
              "          docLink.innerHTML = docLinkHtml;\n",
              "          element.appendChild(docLink);\n",
              "        }\n",
              "      </script>\n",
              "    </div>\n",
              "  </div>\n",
              "  "
            ]
          },
          "metadata": {},
          "execution_count": 10
        }
      ]
    },
    {
      "cell_type": "code",
      "source": [
        "sent = [row.split(' ') for row in df_clean['keywords']]"
      ],
      "metadata": {
        "id": "jJw-k7YYqhjj"
      },
      "execution_count": null,
      "outputs": []
    },
    {
      "cell_type": "code",
      "source": [
        "sent[:50]"
      ],
      "metadata": {
        "colab": {
          "base_uri": "https://localhost:8080/"
        },
        "id": "P7oNpz4OqlSo",
        "outputId": "6e29ab3a-d69b-4b97-b57a-c8768bdb8f50"
      },
      "execution_count": null,
      "outputs": [
        {
          "output_type": "execute_result",
          "data": {
            "text/plain": [
              "[['solopreneur'],\n",
              " ['solopreneurs'],\n",
              " ['generate', 'business', 'idea'],\n",
              " ['ai', 'generated', 'business', 'idea'],\n",
              " ['ai', 'business', 'idea', 'generator'],\n",
              " ['generate', 'product', 'idea'],\n",
              " ['ai', 'generated', 'product', 'idea'],\n",
              " ['ai', 'product', 'idea', 'generator'],\n",
              " ['generate', 'brand', 'name'],\n",
              " ['ai', 'generated', 'brand', 'name'],\n",
              " ['ai', 'brand', 'name', 'generator'],\n",
              " ['image', 'generator'],\n",
              " ['ai', 'image', 'generator'],\n",
              " ['generate', 'image'],\n",
              " ['business', 'idea', 'generator'],\n",
              " ['ai', 'powered', 'business', 'idea', 'generation'],\n",
              " ['ai', 'business', 'idea', 'suggestion'],\n",
              " ['product', 'idea', 'generator'],\n",
              " ['ai', 'generated', 'product', 'idea'],\n",
              " ['ai', 'powered', 'product', 'idea', 'generation'],\n",
              " ['brand', 'name', 'generator'],\n",
              " ['ai', 'generated', 'brand', 'name'],\n",
              " ['ai', 'powered', 'brand', 'name', 'generation'],\n",
              " ['image', 'generation', 'tool'],\n",
              " ['ai', 'image', 'creation'],\n",
              " ['ai', 'powered', 'image', 'generator'],\n",
              " ['graphic', 'generator'],\n",
              " ['ai', 'generated', 'graphic'],\n",
              " ['ai', 'powered', 'graphic', 'creation'],\n",
              " ['domain', 'checker'],\n",
              " ['write', 'linkedin', 'bio'],\n",
              " ['business', 'management', 'software'],\n",
              " ['domain', 'search', 'tool'],\n",
              " ['website', 'domain', 'checker'],\n",
              " ['linkedin', 'bio', 'writer'],\n",
              " ['linkedin', 'profile', 'optimization'],\n",
              " ['linkedin', 'profile', 'writing'],\n",
              " ['linkedin', 'profile', 'writer'],\n",
              " ['linkedin', 'summary', 'writer'],\n",
              " ['business', 'management', 'tool'],\n",
              " ['business', 'software', 'solution'],\n",
              " ['business', 'process', 'management', 'software'],\n",
              " ['business', 'productivity', 'software'],\n",
              " ['business', 'automation', 'software'],\n",
              " ['business', 'software', 'platform'],\n",
              " ['business', 'management', 'system'],\n",
              " ['linkedin', 'daily', 'post', 'idea'],\n",
              " ['social', 'medium', 'caption'],\n",
              " ['popular', 'hashtag'],\n",
              " ['comment', 'idea', 'generator']]"
            ]
          },
          "metadata": {},
          "execution_count": 12
        }
      ]
    },
    {
      "cell_type": "code",
      "source": [
        "from gensim.models import Word2Vec\n",
        "model = Word2Vec(sent, min_count=2,size= 800,workers=3, window =20, sg = 1)"
      ],
      "metadata": {
        "colab": {
          "base_uri": "https://localhost:8080/"
        },
        "id": "xeB4vfSbqny3",
        "outputId": "5c3bc090-2028-4fbb-ac7e-3a89de337200"
      },
      "execution_count": null,
      "outputs": [
        {
          "output_type": "stream",
          "name": "stderr",
          "text": [
            "WARNING:gensim.models.base_any2vec:under 10 jobs per worker: consider setting a smaller `batch_words' for smoother alpha decay\n"
          ]
        }
      ]
    },
    {
      "cell_type": "code",
      "source": [
        "X=model[model.wv.vocab]\n",
        "df=pd.DataFrame(X)\n",
        "df.shape\n",
        "df.head()"
      ],
      "metadata": {
        "colab": {
          "base_uri": "https://localhost:8080/",
          "height": 299
        },
        "id": "ngZ-JtrfqrNa",
        "outputId": "9df09854-f4ff-40a0-83d0-28582ac37c90"
      },
      "execution_count": null,
      "outputs": [
        {
          "output_type": "execute_result",
          "data": {
            "text/plain": [
              "        0         1         2         3         4         5         6    \\\n",
              "0 -0.000207  0.000060 -0.000537  0.000276 -0.000302 -0.000342 -0.000169   \n",
              "1  0.000558  0.000163  0.000438  0.000306  0.000389 -0.000193  0.000572   \n",
              "2 -0.000612 -0.000188 -0.000525  0.000353 -0.000548  0.000478 -0.000409   \n",
              "3  0.000280 -0.000341 -0.000149  0.000242  0.000432 -0.000009  0.000381   \n",
              "4  0.000201  0.000091  0.000443  0.000297 -0.000479 -0.000304 -0.000393   \n",
              "\n",
              "        7         8         9    ...       790       791       792       793  \\\n",
              "0 -0.000077  0.000399 -0.000095  ... -0.000379 -0.000166  0.000498 -0.000269   \n",
              "1 -0.000323 -0.000611  0.000143  ... -0.000123  0.000009  0.000390  0.000554   \n",
              "2  0.000250 -0.000417  0.000068  ...  0.000206  0.000108 -0.000583 -0.000125   \n",
              "3 -0.000452  0.000596 -0.000402  ... -0.000348 -0.000480 -0.000286  0.000267   \n",
              "4 -0.000281  0.000191  0.000024  ... -0.000004 -0.000187 -0.000612 -0.000609   \n",
              "\n",
              "        794       795       796       797       798       799  \n",
              "0  0.000012  0.000070  0.000005 -0.000551 -0.000590  0.000467  \n",
              "1  0.000341 -0.000102 -0.000277 -0.000449  0.000470  0.000129  \n",
              "2  0.000170  0.000311 -0.000045 -0.000352 -0.000073  0.000441  \n",
              "3 -0.000304 -0.000082 -0.000467 -0.000112 -0.000414 -0.000542  \n",
              "4 -0.000269  0.000026 -0.000020  0.000022  0.000360  0.000090  \n",
              "\n",
              "[5 rows x 800 columns]"
            ],
            "text/html": [
              "\n",
              "  <div id=\"df-df284a0d-a23f-4877-bff3-da52574e0eb3\">\n",
              "    <div class=\"colab-df-container\">\n",
              "      <div>\n",
              "<style scoped>\n",
              "    .dataframe tbody tr th:only-of-type {\n",
              "        vertical-align: middle;\n",
              "    }\n",
              "\n",
              "    .dataframe tbody tr th {\n",
              "        vertical-align: top;\n",
              "    }\n",
              "\n",
              "    .dataframe thead th {\n",
              "        text-align: right;\n",
              "    }\n",
              "</style>\n",
              "<table border=\"1\" class=\"dataframe\">\n",
              "  <thead>\n",
              "    <tr style=\"text-align: right;\">\n",
              "      <th></th>\n",
              "      <th>0</th>\n",
              "      <th>1</th>\n",
              "      <th>2</th>\n",
              "      <th>3</th>\n",
              "      <th>4</th>\n",
              "      <th>5</th>\n",
              "      <th>6</th>\n",
              "      <th>7</th>\n",
              "      <th>8</th>\n",
              "      <th>9</th>\n",
              "      <th>...</th>\n",
              "      <th>790</th>\n",
              "      <th>791</th>\n",
              "      <th>792</th>\n",
              "      <th>793</th>\n",
              "      <th>794</th>\n",
              "      <th>795</th>\n",
              "      <th>796</th>\n",
              "      <th>797</th>\n",
              "      <th>798</th>\n",
              "      <th>799</th>\n",
              "    </tr>\n",
              "  </thead>\n",
              "  <tbody>\n",
              "    <tr>\n",
              "      <th>0</th>\n",
              "      <td>-0.000207</td>\n",
              "      <td>0.000060</td>\n",
              "      <td>-0.000537</td>\n",
              "      <td>0.000276</td>\n",
              "      <td>-0.000302</td>\n",
              "      <td>-0.000342</td>\n",
              "      <td>-0.000169</td>\n",
              "      <td>-0.000077</td>\n",
              "      <td>0.000399</td>\n",
              "      <td>-0.000095</td>\n",
              "      <td>...</td>\n",
              "      <td>-0.000379</td>\n",
              "      <td>-0.000166</td>\n",
              "      <td>0.000498</td>\n",
              "      <td>-0.000269</td>\n",
              "      <td>0.000012</td>\n",
              "      <td>0.000070</td>\n",
              "      <td>0.000005</td>\n",
              "      <td>-0.000551</td>\n",
              "      <td>-0.000590</td>\n",
              "      <td>0.000467</td>\n",
              "    </tr>\n",
              "    <tr>\n",
              "      <th>1</th>\n",
              "      <td>0.000558</td>\n",
              "      <td>0.000163</td>\n",
              "      <td>0.000438</td>\n",
              "      <td>0.000306</td>\n",
              "      <td>0.000389</td>\n",
              "      <td>-0.000193</td>\n",
              "      <td>0.000572</td>\n",
              "      <td>-0.000323</td>\n",
              "      <td>-0.000611</td>\n",
              "      <td>0.000143</td>\n",
              "      <td>...</td>\n",
              "      <td>-0.000123</td>\n",
              "      <td>0.000009</td>\n",
              "      <td>0.000390</td>\n",
              "      <td>0.000554</td>\n",
              "      <td>0.000341</td>\n",
              "      <td>-0.000102</td>\n",
              "      <td>-0.000277</td>\n",
              "      <td>-0.000449</td>\n",
              "      <td>0.000470</td>\n",
              "      <td>0.000129</td>\n",
              "    </tr>\n",
              "    <tr>\n",
              "      <th>2</th>\n",
              "      <td>-0.000612</td>\n",
              "      <td>-0.000188</td>\n",
              "      <td>-0.000525</td>\n",
              "      <td>0.000353</td>\n",
              "      <td>-0.000548</td>\n",
              "      <td>0.000478</td>\n",
              "      <td>-0.000409</td>\n",
              "      <td>0.000250</td>\n",
              "      <td>-0.000417</td>\n",
              "      <td>0.000068</td>\n",
              "      <td>...</td>\n",
              "      <td>0.000206</td>\n",
              "      <td>0.000108</td>\n",
              "      <td>-0.000583</td>\n",
              "      <td>-0.000125</td>\n",
              "      <td>0.000170</td>\n",
              "      <td>0.000311</td>\n",
              "      <td>-0.000045</td>\n",
              "      <td>-0.000352</td>\n",
              "      <td>-0.000073</td>\n",
              "      <td>0.000441</td>\n",
              "    </tr>\n",
              "    <tr>\n",
              "      <th>3</th>\n",
              "      <td>0.000280</td>\n",
              "      <td>-0.000341</td>\n",
              "      <td>-0.000149</td>\n",
              "      <td>0.000242</td>\n",
              "      <td>0.000432</td>\n",
              "      <td>-0.000009</td>\n",
              "      <td>0.000381</td>\n",
              "      <td>-0.000452</td>\n",
              "      <td>0.000596</td>\n",
              "      <td>-0.000402</td>\n",
              "      <td>...</td>\n",
              "      <td>-0.000348</td>\n",
              "      <td>-0.000480</td>\n",
              "      <td>-0.000286</td>\n",
              "      <td>0.000267</td>\n",
              "      <td>-0.000304</td>\n",
              "      <td>-0.000082</td>\n",
              "      <td>-0.000467</td>\n",
              "      <td>-0.000112</td>\n",
              "      <td>-0.000414</td>\n",
              "      <td>-0.000542</td>\n",
              "    </tr>\n",
              "    <tr>\n",
              "      <th>4</th>\n",
              "      <td>0.000201</td>\n",
              "      <td>0.000091</td>\n",
              "      <td>0.000443</td>\n",
              "      <td>0.000297</td>\n",
              "      <td>-0.000479</td>\n",
              "      <td>-0.000304</td>\n",
              "      <td>-0.000393</td>\n",
              "      <td>-0.000281</td>\n",
              "      <td>0.000191</td>\n",
              "      <td>0.000024</td>\n",
              "      <td>...</td>\n",
              "      <td>-0.000004</td>\n",
              "      <td>-0.000187</td>\n",
              "      <td>-0.000612</td>\n",
              "      <td>-0.000609</td>\n",
              "      <td>-0.000269</td>\n",
              "      <td>0.000026</td>\n",
              "      <td>-0.000020</td>\n",
              "      <td>0.000022</td>\n",
              "      <td>0.000360</td>\n",
              "      <td>0.000090</td>\n",
              "    </tr>\n",
              "  </tbody>\n",
              "</table>\n",
              "<p>5 rows × 800 columns</p>\n",
              "</div>\n",
              "      <button class=\"colab-df-convert\" onclick=\"convertToInteractive('df-df284a0d-a23f-4877-bff3-da52574e0eb3')\"\n",
              "              title=\"Convert this dataframe to an interactive table.\"\n",
              "              style=\"display:none;\">\n",
              "        \n",
              "  <svg xmlns=\"http://www.w3.org/2000/svg\" height=\"24px\"viewBox=\"0 0 24 24\"\n",
              "       width=\"24px\">\n",
              "    <path d=\"M0 0h24v24H0V0z\" fill=\"none\"/>\n",
              "    <path d=\"M18.56 5.44l.94 2.06.94-2.06 2.06-.94-2.06-.94-.94-2.06-.94 2.06-2.06.94zm-11 1L8.5 8.5l.94-2.06 2.06-.94-2.06-.94L8.5 2.5l-.94 2.06-2.06.94zm10 10l.94 2.06.94-2.06 2.06-.94-2.06-.94-.94-2.06-.94 2.06-2.06.94z\"/><path d=\"M17.41 7.96l-1.37-1.37c-.4-.4-.92-.59-1.43-.59-.52 0-1.04.2-1.43.59L10.3 9.45l-7.72 7.72c-.78.78-.78 2.05 0 2.83L4 21.41c.39.39.9.59 1.41.59.51 0 1.02-.2 1.41-.59l7.78-7.78 2.81-2.81c.8-.78.8-2.07 0-2.86zM5.41 20L4 18.59l7.72-7.72 1.47 1.35L5.41 20z\"/>\n",
              "  </svg>\n",
              "      </button>\n",
              "      \n",
              "  <style>\n",
              "    .colab-df-container {\n",
              "      display:flex;\n",
              "      flex-wrap:wrap;\n",
              "      gap: 12px;\n",
              "    }\n",
              "\n",
              "    .colab-df-convert {\n",
              "      background-color: #E8F0FE;\n",
              "      border: none;\n",
              "      border-radius: 50%;\n",
              "      cursor: pointer;\n",
              "      display: none;\n",
              "      fill: #1967D2;\n",
              "      height: 32px;\n",
              "      padding: 0 0 0 0;\n",
              "      width: 32px;\n",
              "    }\n",
              "\n",
              "    .colab-df-convert:hover {\n",
              "      background-color: #E2EBFA;\n",
              "      box-shadow: 0px 1px 2px rgba(60, 64, 67, 0.3), 0px 1px 3px 1px rgba(60, 64, 67, 0.15);\n",
              "      fill: #174EA6;\n",
              "    }\n",
              "\n",
              "    [theme=dark] .colab-df-convert {\n",
              "      background-color: #3B4455;\n",
              "      fill: #D2E3FC;\n",
              "    }\n",
              "\n",
              "    [theme=dark] .colab-df-convert:hover {\n",
              "      background-color: #434B5C;\n",
              "      box-shadow: 0px 1px 3px 1px rgba(0, 0, 0, 0.15);\n",
              "      filter: drop-shadow(0px 1px 2px rgba(0, 0, 0, 0.3));\n",
              "      fill: #FFFFFF;\n",
              "    }\n",
              "  </style>\n",
              "\n",
              "      <script>\n",
              "        const buttonEl =\n",
              "          document.querySelector('#df-df284a0d-a23f-4877-bff3-da52574e0eb3 button.colab-df-convert');\n",
              "        buttonEl.style.display =\n",
              "          google.colab.kernel.accessAllowed ? 'block' : 'none';\n",
              "\n",
              "        async function convertToInteractive(key) {\n",
              "          const element = document.querySelector('#df-df284a0d-a23f-4877-bff3-da52574e0eb3');\n",
              "          const dataTable =\n",
              "            await google.colab.kernel.invokeFunction('convertToInteractive',\n",
              "                                                     [key], {});\n",
              "          if (!dataTable) return;\n",
              "\n",
              "          const docLinkHtml = 'Like what you see? Visit the ' +\n",
              "            '<a target=\"_blank\" href=https://colab.research.google.com/notebooks/data_table.ipynb>data table notebook</a>'\n",
              "            + ' to learn more about interactive tables.';\n",
              "          element.innerHTML = '';\n",
              "          dataTable['output_type'] = 'display_data';\n",
              "          await google.colab.output.renderOutput(dataTable, element);\n",
              "          const docLink = document.createElement('div');\n",
              "          docLink.innerHTML = docLinkHtml;\n",
              "          element.appendChild(docLink);\n",
              "        }\n",
              "      </script>\n",
              "    </div>\n",
              "  </div>\n",
              "  "
            ]
          },
          "metadata": {},
          "execution_count": 14
        }
      ]
    },
    {
      "cell_type": "code",
      "source": [
        "#Computing the correlation matrix\n",
        "X_corr=df.corr()\n",
        "\n",
        "#Computing eigen values and eigen vectors\n",
        "values,vectors=np.linalg.eig(X_corr)\n",
        "\n",
        "#Sorting the eigen vectors coresponding to eigen values in descending order\n",
        "args = (-values).argsort()\n",
        "values = vectors[args]\n",
        "vectors = vectors[:, args]\n",
        "\n",
        "#Taking first 2 components which explain maximum variance for projecting\n",
        "new_vectors=vectors[:,:2]\n",
        "\n",
        "#Projecting it onto new dimesion with 2 axis\n",
        "neww_X=np.dot(X,new_vectors)"
      ],
      "metadata": {
        "id": "hTcWi9KEqtfG"
      },
      "execution_count": null,
      "outputs": []
    },
    {
      "cell_type": "code",
      "source": [
        "model.wv.index2entity[:40]"
      ],
      "metadata": {
        "colab": {
          "base_uri": "https://localhost:8080/"
        },
        "id": "YsdLjpTNqxZ1",
        "outputId": "97d33164-66fc-47fd-c9fc-00c1461c57a6"
      },
      "execution_count": null,
      "outputs": [
        {
          "output_type": "execute_result",
          "data": {
            "text/plain": [
              "['ai',\n",
              " 'business',\n",
              " 'idea',\n",
              " 'generator',\n",
              " 'platform',\n",
              " 'powered',\n",
              " 'product',\n",
              " 'solopreneurs',\n",
              " 'tool',\n",
              " 'linkedin',\n",
              " 'generated',\n",
              " 'brand',\n",
              " 'name',\n",
              " 'image',\n",
              " 'software',\n",
              " 'generate',\n",
              " 'generation',\n",
              " 'management',\n",
              " 'writing',\n",
              " 'automation',\n",
              " 'note',\n",
              " 'solopreneur',\n",
              " 'creation',\n",
              " 'graphic',\n",
              " 'domain',\n",
              " 'checker',\n",
              " 'writer',\n",
              " 'profile',\n",
              " 'translation',\n",
              " 'marketing',\n",
              " 'language',\n",
              " 'plan',\n",
              " 'copywriting',\n",
              " 'framework',\n",
              " 'blog',\n",
              " 'description',\n",
              " 'meeting',\n",
              " 'template',\n",
              " 'workflow',\n",
              " 'barrier']"
            ]
          },
          "metadata": {},
          "execution_count": 16
        }
      ]
    },
    {
      "cell_type": "code",
      "source": [
        "import seaborn as sns\n",
        "sns.set_style('darkgrid')\n",
        "\n",
        "import matplotlib.pyplot as plt\n",
        "plt.figure(figsize=(20,10))\n",
        "# plt.scatter(neww_X[20:,0],neww_X[20:,1],linewidths=10,color='red',label='least frequent')\n",
        "plt.scatter(neww_X[:40,0],neww_X[:40,1],linewidths=10,color='blue',label = 'most frequent')\n",
        "plt.xlabel(\"PC1\",size=15)\n",
        "plt.ylabel(\"PC2\",size=15)\n",
        "plt.legend(fancybox=True, framealpha=1, shadow=True, borderpad=1,fontsize='xx-large')\n",
        "plt.title(\"Word Embedding Space with 20 most frequent words \",size=20)\n",
        "vocab=list(model.wv.vocab)[:40]\n",
        "for i, word in enumerate(vocab):\n",
        "  plt.annotate(word,xy=(neww_X[i,0],neww_X[i,1]))\n",
        "plt.savefig('most_least_words.png', dpi=400, bbox_inches='tight')\n",
        "#   plt.annotate(word,xy=(neww_X[i+19,0],neww_X[i+19,1]))"
      ],
      "metadata": {
        "colab": {
          "base_uri": "https://localhost:8080/",
          "height": 652
        },
        "id": "nzdLlANYq0oG",
        "outputId": "79e214ab-2c0f-49d3-c9e1-8f90605a4e7b"
      },
      "execution_count": null,
      "outputs": [
        {
          "output_type": "display_data",
          "data": {
            "text/plain": [
              "<Figure size 1440x720 with 1 Axes>"
            ],
            "image/png": "[encoded data removed]"
          },
          "metadata": {}
        }
      ]
    },
    {
      "cell_type": "markdown",
      "source": [
        "use when we had so much keyword from competitor and then searching, which keyword or which word is always used by most site. this kinda like more to reducing time for compiling keyword"
      ],
      "metadata": {
        "id": "bI_JMS9DsWwd"
      }
    },
    {
      "cell_type": "code",
      "source": [],
      "metadata": {
        "id": "tKrCss8BssoE"
      },
      "execution_count": null,
      "outputs": []
    }
  ]
}